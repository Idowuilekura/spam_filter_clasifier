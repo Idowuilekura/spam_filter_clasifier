{
 "cells": [
  {
   "cell_type": "markdown",
   "metadata": {},
   "source": [
    "# Guided Project : Building a Spam Filter with Niave Bayes"
   ]
  },
  {
   "cell_type": "markdown",
   "metadata": {},
   "source": [
    "Our goal in this project is to build a spam filter for SMS messages. To classify messages as spam or non-spam. To \"teach\" the computer how to classify messages, we will use the multinomial Naive Bayes algorithm along with a dataset of 5,572 SMS messages that are already classified by humans.\n",
    "\n",
    "The dataset was put togetther by Tiago A. Almedia and Jose Maria Gomez Hidalgo, and it can be downloaded from [The UCI Machine Learning Repository](https://archive.ics.uci.edu/ml/datasets/sms+spam+collection). The data collection process is described in more details on [this page](http://www.dt.fee.unicamp.br/~tiago/smsspamcollection/#composition), where the author's papers are."
   ]
  },
  {
   "cell_type": "code",
   "execution_count": 1,
   "metadata": {
    "collapsed": true
   },
   "outputs": [],
   "source": [
    "import pandas as pd"
   ]
  },
  {
   "cell_type": "code",
   "execution_count": 2,
   "metadata": {
    "collapsed": true
   },
   "outputs": [],
   "source": [
    "sms_spam_dataset = pd.read_csv('SMSSpamCollection',sep='\\t',header=None)"
   ]
  },
  {
   "cell_type": "code",
   "execution_count": 3,
   "metadata": {
    "collapsed": false
   },
   "outputs": [],
   "source": [
    "sms_spam_dataset.columns = ['Label','SMS']"
   ]
  },
  {
   "cell_type": "markdown",
   "metadata": {},
   "source": [
    "# Exploring the dataset"
   ]
  },
  {
   "cell_type": "code",
   "execution_count": 4,
   "metadata": {
    "collapsed": false
   },
   "outputs": [
    {
     "data": {
      "text/html": [
       "<div>\n",
       "<style scoped>\n",
       "    .dataframe tbody tr th:only-of-type {\n",
       "        vertical-align: middle;\n",
       "    }\n",
       "\n",
       "    .dataframe tbody tr th {\n",
       "        vertical-align: top;\n",
       "    }\n",
       "\n",
       "    .dataframe thead th {\n",
       "        text-align: right;\n",
       "    }\n",
       "</style>\n",
       "<table border=\"1\" class=\"dataframe\">\n",
       "  <thead>\n",
       "    <tr style=\"text-align: right;\">\n",
       "      <th></th>\n",
       "      <th>Label</th>\n",
       "      <th>SMS</th>\n",
       "    </tr>\n",
       "  </thead>\n",
       "  <tbody>\n",
       "    <tr>\n",
       "      <th>0</th>\n",
       "      <td>ham</td>\n",
       "      <td>Go until jurong point, crazy.. Available only ...</td>\n",
       "    </tr>\n",
       "    <tr>\n",
       "      <th>1</th>\n",
       "      <td>ham</td>\n",
       "      <td>Ok lar... Joking wif u oni...</td>\n",
       "    </tr>\n",
       "    <tr>\n",
       "      <th>2</th>\n",
       "      <td>spam</td>\n",
       "      <td>Free entry in 2 a wkly comp to win FA Cup fina...</td>\n",
       "    </tr>\n",
       "  </tbody>\n",
       "</table>\n",
       "</div>"
      ],
      "text/plain": [
       "  Label                                                SMS\n",
       "0   ham  Go until jurong point, crazy.. Available only ...\n",
       "1   ham                      Ok lar... Joking wif u oni...\n",
       "2  spam  Free entry in 2 a wkly comp to win FA Cup fina..."
      ]
     },
     "execution_count": 4,
     "metadata": {},
     "output_type": "execute_result"
    }
   ],
   "source": [
    "sms_spam_dataset.head(3)"
   ]
  },
  {
   "cell_type": "markdown",
   "metadata": {},
   "source": [
    "-ham label means the message is not spam\n",
    "spam label means the message is spam"
   ]
  },
  {
   "cell_type": "code",
   "execution_count": 5,
   "metadata": {
    "collapsed": false
   },
   "outputs": [
    {
     "data": {
      "text/plain": [
       "(5572, 2)"
      ]
     },
     "execution_count": 5,
     "metadata": {},
     "output_type": "execute_result"
    }
   ],
   "source": [
    "sms_spam_dataset.shape"
   ]
  },
  {
   "cell_type": "code",
   "execution_count": 6,
   "metadata": {
    "collapsed": false
   },
   "outputs": [
    {
     "data": {
      "text/plain": [
       "13.406317300789663"
      ]
     },
     "execution_count": 6,
     "metadata": {},
     "output_type": "execute_result"
    }
   ],
   "source": [
    "sms_spam_dataset[sms_spam_dataset['Label']=='spam'].shape[0]/sms_spam_dataset.shape[0]*100"
   ]
  },
  {
   "cell_type": "code",
   "execution_count": 7,
   "metadata": {
    "collapsed": false
   },
   "outputs": [
    {
     "data": {
      "text/plain": [
       "86.59368269921033"
      ]
     },
     "execution_count": 7,
     "metadata": {},
     "output_type": "execute_result"
    }
   ],
   "source": [
    "sms_spam_dataset[sms_spam_dataset['Label']=='ham'].shape[0]/sms_spam_dataset.shape[0]*100"
   ]
  },
  {
   "cell_type": "code",
   "execution_count": 8,
   "metadata": {
    "collapsed": false
   },
   "outputs": [
    {
     "name": "stdout",
     "output_type": "stream",
     "text": [
      "<class 'pandas.core.frame.DataFrame'>\n",
      "RangeIndex: 5572 entries, 0 to 5571\n",
      "Data columns (total 2 columns):\n",
      "Label    5572 non-null object\n",
      "SMS      5572 non-null object\n",
      "dtypes: object(2)\n",
      "memory usage: 87.1+ KB\n"
     ]
    }
   ],
   "source": [
    "sms_spam_dataset.info()"
   ]
  },
  {
   "cell_type": "markdown",
   "metadata": {},
   "source": [
    "We could see that the percentage of spam messages in the dataset is about 13% while messages that are not spam are about 87%. It seems we have more messages that are not spam than those that are spam. This makes the sample representative since in practice most messages that people receive are ham.Also we could see that there are no null values"
   ]
  },
  {
   "cell_type": "markdown",
   "metadata": {},
   "source": [
    "# Training and Test Set"
   ]
  },
  {
   "cell_type": "markdown",
   "metadata": {},
   "source": [
    "We are now going to split our dataset into a training and a test set, where the training set accounts for 80% of the data, and the test set for the remaining 20%. After building our spam filte, wee need to test it with data from the dataset which have not been used to train the data( hence the need to have a separated data from the training data)"
   ]
  },
  {
   "cell_type": "code",
   "execution_count": 9,
   "metadata": {
    "collapsed": false
   },
   "outputs": [],
   "source": [
    "# Randomize the dataset\n",
    "randomized_data = sms_spam_dataset.sample(frac=1,random_state=1)\n",
    "# Calculating index forsplit \n",
    "train_test_index = round(len(randomized_data)*0.8)\n",
    "# Training/ Test split\n",
    "train_set = randomized_data[:train_test_index].reset_index(drop=True)\n",
    "test_set = randomized_data[train_test_index:].reset_index(drop=True)"
   ]
  },
  {
   "cell_type": "markdown",
   "metadata": {},
   "source": [
    "We are now going to analyze the percentge of spam and ham messages in the training and test sets. We expect the percentages to be clolsoe to what we have in the full dataset, where about 87% of the messages are ham, and the remaining 13% are spam."
   ]
  },
  {
   "cell_type": "code",
   "execution_count": 10,
   "metadata": {
    "collapsed": false
   },
   "outputs": [
    {
     "name": "stdout",
     "output_type": "stream",
     "text": [
      "(4458, 2)\n",
      "(1114, 2)\n"
     ]
    }
   ],
   "source": [
    "print(train_set.shape)\n",
    "print(test_set.shape)"
   ]
  },
  {
   "cell_type": "code",
   "execution_count": 11,
   "metadata": {
    "collapsed": false
   },
   "outputs": [
    {
     "data": {
      "text/plain": [
       "87"
      ]
     },
     "execution_count": 11,
     "metadata": {},
     "output_type": "execute_result"
    }
   ],
   "source": [
    "round(test_set[test_set['Label']=='ham'].shape[0]/test_set.shape[0] *100)"
   ]
  },
  {
   "cell_type": "code",
   "execution_count": 12,
   "metadata": {
    "collapsed": false
   },
   "outputs": [
    {
     "data": {
      "text/plain": [
       "13"
      ]
     },
     "execution_count": 12,
     "metadata": {},
     "output_type": "execute_result"
    }
   ],
   "source": [
    "round(test_set[test_set['Label']=='spam'].shape[0]/test_set.shape[0]*100)"
   ]
  },
  {
   "cell_type": "code",
   "execution_count": 13,
   "metadata": {
    "collapsed": false
   },
   "outputs": [
    {
     "data": {
      "text/plain": [
       "86.54104979811575"
      ]
     },
     "execution_count": 13,
     "metadata": {},
     "output_type": "execute_result"
    }
   ],
   "source": [
    "train_set[train_set['Label']=='ham'].shape[0]/train_set.shape[0]*100"
   ]
  },
  {
   "cell_type": "markdown",
   "metadata": {},
   "source": [
    "The results look good we will now move on to cleaning the dataset"
   ]
  },
  {
   "cell_type": "markdown",
   "metadata": {},
   "source": [
    "# Data Cleaning "
   ]
  },
  {
   "cell_type": "markdown",
   "metadata": {},
   "source": [
    "To calculate all the probabilities required by the algorithm, we will first need to perform a bit of data cleaning to bring the data in a format that will allow us to extract easily all the information we need. Essentially, we want to bring the data to this format:"
   ]
  },
  {
   "cell_type": "code",
   "execution_count": 14,
   "metadata": {
    "collapsed": false
   },
   "outputs": [
    {
     "data": {
      "image/png": "[encoded data removed]",
      "text/plain": [
       "<IPython.core.display.Image object>"
      ]
     },
     "execution_count": 14,
     "metadata": {},
     "output_type": "execute_result"
    }
   ],
   "source": [
    "from IPython.display import Image\n",
    "Image('spam first image dataquest.png')"
   ]
  },
  {
   "cell_type": "markdown",
   "metadata": {},
   "source": [
    "# Letter Case and Punctuation\n",
    "We will begin with removing all the punctuation and bringing every letter to lowe case."
   ]
  },
  {
   "cell_type": "code",
   "execution_count": 15,
   "metadata": {
    "collapsed": false
   },
   "outputs": [
    {
     "data": {
      "text/html": [
       "<div>\n",
       "<style scoped>\n",
       "    .dataframe tbody tr th:only-of-type {\n",
       "        vertical-align: middle;\n",
       "    }\n",
       "\n",
       "    .dataframe tbody tr th {\n",
       "        vertical-align: top;\n",
       "    }\n",
       "\n",
       "    .dataframe thead th {\n",
       "        text-align: right;\n",
       "    }\n",
       "</style>\n",
       "<table border=\"1\" class=\"dataframe\">\n",
       "  <thead>\n",
       "    <tr style=\"text-align: right;\">\n",
       "      <th></th>\n",
       "      <th>Label</th>\n",
       "      <th>SMS</th>\n",
       "    </tr>\n",
       "  </thead>\n",
       "  <tbody>\n",
       "    <tr>\n",
       "      <th>0</th>\n",
       "      <td>ham</td>\n",
       "      <td>Yep, by the pretty sculpture</td>\n",
       "    </tr>\n",
       "    <tr>\n",
       "      <th>1</th>\n",
       "      <td>ham</td>\n",
       "      <td>Yes, princess. Are you going to make me moan?</td>\n",
       "    </tr>\n",
       "    <tr>\n",
       "      <th>2</th>\n",
       "      <td>ham</td>\n",
       "      <td>Welp apparently he retired</td>\n",
       "    </tr>\n",
       "    <tr>\n",
       "      <th>3</th>\n",
       "      <td>ham</td>\n",
       "      <td>Havent.</td>\n",
       "    </tr>\n",
       "    <tr>\n",
       "      <th>4</th>\n",
       "      <td>ham</td>\n",
       "      <td>I forgot 2 ask ü all smth.. There's a card on ...</td>\n",
       "    </tr>\n",
       "  </tbody>\n",
       "</table>\n",
       "</div>"
      ],
      "text/plain": [
       "  Label                                                SMS\n",
       "0   ham                       Yep, by the pretty sculpture\n",
       "1   ham      Yes, princess. Are you going to make me moan?\n",
       "2   ham                         Welp apparently he retired\n",
       "3   ham                                            Havent.\n",
       "4   ham  I forgot 2 ask ü all smth.. There's a card on ..."
      ]
     },
     "execution_count": 15,
     "metadata": {},
     "output_type": "execute_result"
    }
   ],
   "source": [
    "# Before cleaning \n",
    "train_set.head()"
   ]
  },
  {
   "cell_type": "code",
   "execution_count": 16,
   "metadata": {
    "collapsed": false
   },
   "outputs": [],
   "source": [
    "import re\n",
    "train_set['SMS'] = train_set['SMS'].str.replace('\\W',' ')"
   ]
  },
  {
   "cell_type": "code",
   "execution_count": 17,
   "metadata": {
    "collapsed": false
   },
   "outputs": [
    {
     "data": {
      "text/html": [
       "<div>\n",
       "<style scoped>\n",
       "    .dataframe tbody tr th:only-of-type {\n",
       "        vertical-align: middle;\n",
       "    }\n",
       "\n",
       "    .dataframe tbody tr th {\n",
       "        vertical-align: top;\n",
       "    }\n",
       "\n",
       "    .dataframe thead th {\n",
       "        text-align: right;\n",
       "    }\n",
       "</style>\n",
       "<table border=\"1\" class=\"dataframe\">\n",
       "  <thead>\n",
       "    <tr style=\"text-align: right;\">\n",
       "      <th></th>\n",
       "      <th>Label</th>\n",
       "      <th>SMS</th>\n",
       "    </tr>\n",
       "  </thead>\n",
       "  <tbody>\n",
       "    <tr>\n",
       "      <th>0</th>\n",
       "      <td>ham</td>\n",
       "      <td>Yep  by the pretty sculpture</td>\n",
       "    </tr>\n",
       "    <tr>\n",
       "      <th>1</th>\n",
       "      <td>ham</td>\n",
       "      <td>Yes  princess  Are you going to make me moan</td>\n",
       "    </tr>\n",
       "    <tr>\n",
       "      <th>2</th>\n",
       "      <td>ham</td>\n",
       "      <td>Welp apparently he retired</td>\n",
       "    </tr>\n",
       "  </tbody>\n",
       "</table>\n",
       "</div>"
      ],
      "text/plain": [
       "  Label                                            SMS\n",
       "0   ham                   Yep  by the pretty sculpture\n",
       "1   ham  Yes  princess  Are you going to make me moan \n",
       "2   ham                     Welp apparently he retired"
      ]
     },
     "execution_count": 17,
     "metadata": {},
     "output_type": "execute_result"
    }
   ],
   "source": [
    "# After cleaning\n",
    "train_set.head(3)"
   ]
  },
  {
   "cell_type": "code",
   "execution_count": 18,
   "metadata": {
    "collapsed": false
   },
   "outputs": [],
   "source": [
    "train_set['SMS'] = train_set['SMS'].str.lower()"
   ]
  },
  {
   "cell_type": "code",
   "execution_count": 19,
   "metadata": {
    "collapsed": false
   },
   "outputs": [
    {
     "data": {
      "text/plain": [
       "0"
      ]
     },
     "execution_count": 19,
     "metadata": {},
     "output_type": "execute_result"
    }
   ],
   "source": [
    "train_set['SMS'].str.isupper().sum()"
   ]
  },
  {
   "cell_type": "markdown",
   "metadata": {},
   "source": [
    "# Creating the vocabulary\n",
    "\n",
    "Let's now move to creating the vocabulary, which in this context means a list with all the unique words in our training set"
   ]
  },
  {
   "cell_type": "code",
   "execution_count": 20,
   "metadata": {
    "collapsed": false
   },
   "outputs": [],
   "source": [
    "train_set['SMS'] = train_set['SMS'].str.split()"
   ]
  },
  {
   "cell_type": "code",
   "execution_count": 21,
   "metadata": {
    "collapsed": false
   },
   "outputs": [
    {
     "data": {
      "text/plain": [
       "7783"
      ]
     },
     "execution_count": 21,
     "metadata": {},
     "output_type": "execute_result"
    }
   ],
   "source": [
    "vocabulary = []\n",
    "for rows in train_set['SMS']:\n",
    "    for i in rows:\n",
    "        vocabulary.append(i)\n",
    "vocab_set = set(vocabulary)\n",
    "train_vocab_list = list(vocab_set)\n",
    "len(train_vocab_list)\n"
   ]
  },
  {
   "cell_type": "markdown",
   "metadata": {},
   "source": [
    "It looks like there are 7,783 unique words in all the messages of our training set"
   ]
  },
  {
   "cell_type": "markdown",
   "metadata": {},
   "source": [
    "# The Final Training Set"
   ]
  },
  {
   "cell_type": "markdown",
   "metadata": {},
   "source": [
    "We are now going to use the vocabulary we just created to make the data transformation we want"
   ]
  },
  {
   "cell_type": "code",
   "execution_count": 22,
   "metadata": {
    "collapsed": false,
    "scrolled": true
   },
   "outputs": [],
   "source": [
    "word_counts_per_sms = {unique_word: [0]* len(train_set['SMS']) for unique_word in train_vocab_list}\n",
    "for index,sms in enumerate(train_set['SMS']):\n",
    "    for word in sms:\n",
    "        word_counts_per_sms[word][index] += 1\n",
    "        \n",
    "      "
   ]
  },
  {
   "cell_type": "code",
   "execution_count": 23,
   "metadata": {
    "collapsed": false
   },
   "outputs": [],
   "source": [
    "word_counts_per_sms_df = pd.DataFrame(word_counts_per_sms)"
   ]
  },
  {
   "cell_type": "code",
   "execution_count": 24,
   "metadata": {
    "collapsed": false
   },
   "outputs": [
    {
     "data": {
      "text/plain": [
       "(4458, 7783)"
      ]
     },
     "execution_count": 24,
     "metadata": {},
     "output_type": "execute_result"
    }
   ],
   "source": [
    "word_counts_per_sms_df.shape"
   ]
  },
  {
   "cell_type": "code",
   "execution_count": 25,
   "metadata": {
    "collapsed": false
   },
   "outputs": [],
   "source": [
    "train_label = pd.concat([train_set,word_counts_per_sms_df],axis=1)"
   ]
  },
  {
   "cell_type": "code",
   "execution_count": 26,
   "metadata": {
    "collapsed": false
   },
   "outputs": [
    {
     "data": {
      "text/html": [
       "<div>\n",
       "<style scoped>\n",
       "    .dataframe tbody tr th:only-of-type {\n",
       "        vertical-align: middle;\n",
       "    }\n",
       "\n",
       "    .dataframe tbody tr th {\n",
       "        vertical-align: top;\n",
       "    }\n",
       "\n",
       "    .dataframe thead th {\n",
       "        text-align: right;\n",
       "    }\n",
       "</style>\n",
       "<table border=\"1\" class=\"dataframe\">\n",
       "  <thead>\n",
       "    <tr style=\"text-align: right;\">\n",
       "      <th></th>\n",
       "      <th>Label</th>\n",
       "      <th>SMS</th>\n",
       "      <th>0</th>\n",
       "      <th>00</th>\n",
       "      <th>000</th>\n",
       "      <th>000pes</th>\n",
       "      <th>008704050406</th>\n",
       "      <th>0089</th>\n",
       "      <th>01223585334</th>\n",
       "      <th>02</th>\n",
       "      <th>...</th>\n",
       "      <th>zindgi</th>\n",
       "      <th>zoe</th>\n",
       "      <th>zogtorius</th>\n",
       "      <th>zouk</th>\n",
       "      <th>zyada</th>\n",
       "      <th>é</th>\n",
       "      <th>ú1</th>\n",
       "      <th>ü</th>\n",
       "      <th>〨ud</th>\n",
       "      <th>鈥</th>\n",
       "    </tr>\n",
       "  </thead>\n",
       "  <tbody>\n",
       "    <tr>\n",
       "      <th>0</th>\n",
       "      <td>ham</td>\n",
       "      <td>[yep, by, the, pretty, sculpture]</td>\n",
       "      <td>0</td>\n",
       "      <td>0</td>\n",
       "      <td>0</td>\n",
       "      <td>0</td>\n",
       "      <td>0</td>\n",
       "      <td>0</td>\n",
       "      <td>0</td>\n",
       "      <td>0</td>\n",
       "      <td>...</td>\n",
       "      <td>0</td>\n",
       "      <td>0</td>\n",
       "      <td>0</td>\n",
       "      <td>0</td>\n",
       "      <td>0</td>\n",
       "      <td>0</td>\n",
       "      <td>0</td>\n",
       "      <td>0</td>\n",
       "      <td>0</td>\n",
       "      <td>0</td>\n",
       "    </tr>\n",
       "    <tr>\n",
       "      <th>1</th>\n",
       "      <td>ham</td>\n",
       "      <td>[yes, princess, are, you, going, to, make, me,...</td>\n",
       "      <td>0</td>\n",
       "      <td>0</td>\n",
       "      <td>0</td>\n",
       "      <td>0</td>\n",
       "      <td>0</td>\n",
       "      <td>0</td>\n",
       "      <td>0</td>\n",
       "      <td>0</td>\n",
       "      <td>...</td>\n",
       "      <td>0</td>\n",
       "      <td>0</td>\n",
       "      <td>0</td>\n",
       "      <td>0</td>\n",
       "      <td>0</td>\n",
       "      <td>0</td>\n",
       "      <td>0</td>\n",
       "      <td>0</td>\n",
       "      <td>0</td>\n",
       "      <td>0</td>\n",
       "    </tr>\n",
       "    <tr>\n",
       "      <th>2</th>\n",
       "      <td>ham</td>\n",
       "      <td>[welp, apparently, he, retired]</td>\n",
       "      <td>0</td>\n",
       "      <td>0</td>\n",
       "      <td>0</td>\n",
       "      <td>0</td>\n",
       "      <td>0</td>\n",
       "      <td>0</td>\n",
       "      <td>0</td>\n",
       "      <td>0</td>\n",
       "      <td>...</td>\n",
       "      <td>0</td>\n",
       "      <td>0</td>\n",
       "      <td>0</td>\n",
       "      <td>0</td>\n",
       "      <td>0</td>\n",
       "      <td>0</td>\n",
       "      <td>0</td>\n",
       "      <td>0</td>\n",
       "      <td>0</td>\n",
       "      <td>0</td>\n",
       "    </tr>\n",
       "    <tr>\n",
       "      <th>3</th>\n",
       "      <td>ham</td>\n",
       "      <td>[havent]</td>\n",
       "      <td>0</td>\n",
       "      <td>0</td>\n",
       "      <td>0</td>\n",
       "      <td>0</td>\n",
       "      <td>0</td>\n",
       "      <td>0</td>\n",
       "      <td>0</td>\n",
       "      <td>0</td>\n",
       "      <td>...</td>\n",
       "      <td>0</td>\n",
       "      <td>0</td>\n",
       "      <td>0</td>\n",
       "      <td>0</td>\n",
       "      <td>0</td>\n",
       "      <td>0</td>\n",
       "      <td>0</td>\n",
       "      <td>0</td>\n",
       "      <td>0</td>\n",
       "      <td>0</td>\n",
       "    </tr>\n",
       "    <tr>\n",
       "      <th>4</th>\n",
       "      <td>ham</td>\n",
       "      <td>[i, forgot, 2, ask, ü, all, smth, there, s, a,...</td>\n",
       "      <td>0</td>\n",
       "      <td>0</td>\n",
       "      <td>0</td>\n",
       "      <td>0</td>\n",
       "      <td>0</td>\n",
       "      <td>0</td>\n",
       "      <td>0</td>\n",
       "      <td>0</td>\n",
       "      <td>...</td>\n",
       "      <td>0</td>\n",
       "      <td>0</td>\n",
       "      <td>0</td>\n",
       "      <td>0</td>\n",
       "      <td>0</td>\n",
       "      <td>0</td>\n",
       "      <td>0</td>\n",
       "      <td>2</td>\n",
       "      <td>0</td>\n",
       "      <td>0</td>\n",
       "    </tr>\n",
       "  </tbody>\n",
       "</table>\n",
       "<p>5 rows × 7785 columns</p>\n",
       "</div>"
      ],
      "text/plain": [
       "  Label                                                SMS  0  00  000  \\\n",
       "0   ham                  [yep, by, the, pretty, sculpture]  0   0    0   \n",
       "1   ham  [yes, princess, are, you, going, to, make, me,...  0   0    0   \n",
       "2   ham                    [welp, apparently, he, retired]  0   0    0   \n",
       "3   ham                                           [havent]  0   0    0   \n",
       "4   ham  [i, forgot, 2, ask, ü, all, smth, there, s, a,...  0   0    0   \n",
       "\n",
       "   000pes  008704050406  0089  01223585334  02 ...  zindgi  zoe  zogtorius  \\\n",
       "0       0             0     0            0   0 ...       0    0          0   \n",
       "1       0             0     0            0   0 ...       0    0          0   \n",
       "2       0             0     0            0   0 ...       0    0          0   \n",
       "3       0             0     0            0   0 ...       0    0          0   \n",
       "4       0             0     0            0   0 ...       0    0          0   \n",
       "\n",
       "   zouk  zyada  é  ú1  ü  〨ud  鈥  \n",
       "0     0      0  0   0  0    0  0  \n",
       "1     0      0  0   0  0    0  0  \n",
       "2     0      0  0   0  0    0  0  \n",
       "3     0      0  0   0  0    0  0  \n",
       "4     0      0  0   0  2    0  0  \n",
       "\n",
       "[5 rows x 7785 columns]"
      ]
     },
     "execution_count": 26,
     "metadata": {},
     "output_type": "execute_result"
    }
   ],
   "source": [
    "train_label.head()"
   ]
  },
  {
   "cell_type": "markdown",
   "metadata": {},
   "source": [
    "# Calculating Constants First\n",
    "\n",
    "We are now done with cleaning the training set, and we can begin creating the spam filter. The Naive Bayes algorithm will need to answer these two probability questions to be able to classify new messages "
   ]
  },
  {
   "cell_type": "code",
   "execution_count": 27,
   "metadata": {
    "collapsed": false
   },
   "outputs": [
    {
     "data": {
      "image/svg+xml": [
       "<svg height=\"13.6875pt\" version=\"1.1\" viewBox=\"0 0 287.048495 13.6875\" width=\"287.048495pt\" xmlns=\"http://www.w3.org/2000/svg\" xmlns:xlink=\"http://www.w3.org/1999/xlink\">\n",
       "<defs>\n",
       "<g>\n",
       "<symbol id=\"glyph0-0\" overflow=\"visible\">\n",
       "<path d=\"M 1.75 -7.84375 L 1.75 -7.640625 C 2.4375 -7.5625 2.609375 -7.46875 2.609375 -7.140625 C 2.609375 -6.953125 2.5625 -6.703125 2.40625 -6.140625 L 1.015625 -1.171875 C 0.796875 -0.390625 0.6875 -0.28125 0 -0.1875 L 0 0 L 2.921875 0 L 2.921875 -0.1875 C 2.28125 -0.265625 2.09375 -0.40625 2.09375 -0.6875 C 2.09375 -0.859375 2.1875 -1.109375 2.265625 -1.4375 L 2.90625 -3.75 C 3.21875 -3.6875 3.484375 -3.65625 3.984375 -3.65625 C 5.046875 -3.65625 5.890625 -3.890625 6.4375 -4.34375 C 6.9375 -4.75 7.265625 -5.40625 7.265625 -6.0625 C 7.265625 -7.21875 6.40625 -7.84375 4.640625 -7.84375 Z M 3.84375 -7.109375 C 3.90625 -7.375 4.125 -7.46875 4.46875 -7.46875 C 5.453125 -7.46875 6.03125 -7.0625 6.03125 -6 C 6.03125 -5.21875 5.703125 -4.6875 5.171875 -4.390625 C 4.796875 -4.171875 4.375 -4.109375 3.640625 -4.109375 C 3.421875 -4.109375 3.359375 -4.109375 3.015625 -4.15625 Z M 3.84375 -7.109375 \" style=\"stroke:none;\"/>\n",
       "</symbol>\n",
       "<symbol id=\"glyph0-1\" overflow=\"visible\">\n",
       "<path d=\"M 6.09375 -8 L 5.8125 -8 C 5.65625 -7.75 5.546875 -7.6875 5.28125 -7.6875 C 5.125 -7.6875 4.984375 -7.734375 4.734375 -7.828125 C 4.46875 -7.9375 4.078125 -7.984375 3.703125 -7.984375 C 2.5625 -7.984375 1.578125 -7.28125 1.578125 -6.03125 C 1.578125 -5.375 1.75 -4.984375 2.46875 -4.21875 C 2.625 -4.0625 2.765625 -3.90625 2.9375 -3.71875 L 3.40625 -3.21875 C 3.953125 -2.609375 4.125 -2.25 4.125 -1.734375 C 4.125 -0.828125 3.484375 -0.203125 2.5625 -0.203125 C 1.546875 -0.203125 0.828125 -1.03125 0.828125 -2.203125 C 0.828125 -2.296875 0.828125 -2.375 0.859375 -2.484375 L 0.609375 -2.515625 L 0.203125 0.1875 L 0.421875 0.1875 C 0.5 -0.09375 0.703125 -0.203125 0.9375 -0.203125 C 1.0625 -0.203125 1.171875 -0.1875 1.5 -0.0625 C 2.046875 0.125 2.375 0.21875 2.75 0.21875 C 4.125 0.21875 5.171875 -0.75 5.171875 -2.125 C 5.171875 -2.90625 4.90625 -3.421875 3.8125 -4.53125 C 2.71875 -5.609375 2.625 -5.8125 2.625 -6.390625 C 2.625 -7.15625 3.140625 -7.59375 3.96875 -7.59375 C 5.140625 -7.59375 5.40625 -6.859375 5.40625 -5.640625 L 5.609375 -5.609375 Z M 6.09375 -8 \" style=\"stroke:none;\"/>\n",
       "</symbol>\n",
       "<symbol id=\"glyph0-2\" overflow=\"visible\">\n",
       "<path d=\"M 2.578125 -5.140625 C 2.59375 -5.1875 2.609375 -5.25 2.609375 -5.25 C 2.609375 -5.265625 2.578125 -5.296875 2.546875 -5.296875 L 0.671875 -5.03125 L 0.703125 -4.84375 L 0.953125 -4.84375 C 1.15625 -4.84375 1.484375 -4.8125 1.484375 -4.53125 C 1.484375 -4.46875 1.421875 -4.15625 1.296875 -3.671875 L -0.078125 1.515625 C -0.234375 2.078125 -0.390625 2.25 -0.90625 2.265625 L -0.90625 2.453125 L 1.53125 2.453125 L 1.53125 2.265625 C 0.96875 2.265625 0.796875 2.1875 0.796875 1.921875 C 0.796875 1.75 1.0625 0.765625 1.265625 -0.078125 C 1.578125 0.078125 1.828125 0.125 2.09375 0.125 C 3.859375 0.125 5.65625 -1.8125 5.65625 -3.796875 C 5.65625 -4.734375 5.171875 -5.296875 4.28125 -5.296875 C 3.5625 -5.296875 2.875 -4.90625 2.234375 -3.9375 Z M 4.578125 -3.75 C 4.578125 -2.921875 4.328125 -2.046875 3.75 -1.234375 C 3.234375 -0.484375 2.65625 -0.09375 2.015625 -0.09375 C 1.6875 -0.09375 1.4375 -0.28125 1.4375 -0.546875 C 1.4375 -0.953125 1.875 -2.515625 2.21875 -3.40625 C 2.5 -4.125 3.203125 -4.78125 3.84375 -4.78125 C 4.375 -4.78125 4.578125 -4.4375 4.578125 -3.75 Z M 4.578125 -3.75 \" style=\"stroke:none;\"/>\n",
       "</symbol>\n",
       "<symbol id=\"glyph0-3\" overflow=\"visible\">\n",
       "<path d=\"M 5.5625 -1.328125 L 5.234375 -0.984375 C 4.875 -0.59375 4.71875 -0.484375 4.609375 -0.484375 C 4.515625 -0.484375 4.4375 -0.5625 4.4375 -0.640625 C 4.4375 -0.890625 4.9375 -2.953125 5.515625 -5 C 5.546875 -5.125 5.5625 -5.140625 5.578125 -5.25 L 5.5 -5.296875 L 4.765625 -5.203125 L 4.734375 -5.171875 L 4.59375 -4.59375 C 4.5 -5.046875 4.15625 -5.296875 3.640625 -5.296875 C 2.046875 -5.296875 0.203125 -3.125 0.203125 -1.265625 C 0.203125 -0.34375 0.734375 0.125 1.40625 0.125 C 2.25 0.125 2.9375 -0.390625 3.84375 -1.75 C 3.59375 -0.765625 3.5625 -0.671875 3.5625 -0.375 C 3.5625 -0.03125 3.703125 0.125 4.046875 0.125 C 4.53125 0.125 4.8125 -0.109375 5.71875 -1.203125 Z M 4.375 -4.328125 C 4.375 -3.484375 4.015625 -2.453125 3.453125 -1.625 C 3.09375 -1.109375 2.53125 -0.453125 1.9375 -0.453125 C 1.5 -0.453125 1.21875 -0.6875 1.21875 -1.34375 C 1.21875 -2.09375 1.625 -3.171875 2.140625 -3.921875 C 2.640625 -4.65625 3.171875 -5.03125 3.703125 -5.03125 C 4.125 -5.03125 4.375 -4.75 4.375 -4.328125 Z M 4.375 -4.328125 \" style=\"stroke:none;\"/>\n",
       "</symbol>\n",
       "<symbol id=\"glyph0-4\" overflow=\"visible\">\n",
       "<path d=\"M 8.453125 -1.265625 L 8.265625 -1.40625 L 8.015625 -1.09375 C 7.65625 -0.640625 7.4375 -0.453125 7.234375 -0.453125 C 7.140625 -0.453125 7.09375 -0.515625 7.09375 -0.640625 C 7.09375 -0.703125 7.140625 -0.90625 7.21875 -1.1875 L 8.03125 -4.203125 C 8.046875 -4.265625 8.0625 -4.453125 8.0625 -4.53125 C 8.0625 -4.96875 7.8125 -5.296875 7.375 -5.296875 C 7.125 -5.296875 6.90625 -5.234375 6.609375 -5.046875 C 6.03125 -4.6875 5.53125 -4.078125 4.6875 -2.75 C 5.015625 -3.671875 5.171875 -4.34375 5.171875 -4.578125 C 5.171875 -5 4.9375 -5.296875 4.453125 -5.296875 C 3.71875 -5.296875 2.875 -4.5 1.8125 -2.765625 L 2.515625 -5.265625 L 2.46875 -5.296875 L 0.53125 -4.921875 L 0.53125 -4.734375 L 0.828125 -4.734375 C 1.15625 -4.734375 1.3125 -4.640625 1.3125 -4.46875 C 1.3125 -4.3125 1.140625 -3.328125 0.65625 -1.734375 L 0.140625 0 L 1.046875 0 C 1.625 -1.890625 1.78125 -2.328125 2.203125 -2.953125 C 2.875 -3.96875 3.578125 -4.671875 3.984375 -4.671875 C 4.140625 -4.671875 4.25 -4.5625 4.25 -4.375 C 4.25 -4.21875 3.953125 -2.9375 3.4375 -1.109375 L 3.109375 0 L 4.015625 0 C 4.46875 -1.84375 4.71875 -2.4375 5.296875 -3.265625 C 5.90625 -4.109375 6.515625 -4.671875 6.875 -4.671875 C 7.015625 -4.671875 7.109375 -4.5625 7.109375 -4.421875 C 7.109375 -4.359375 7.09375 -4.203125 7.03125 -3.953125 L 6.34375 -1.234375 C 6.21875 -0.765625 6.1875 -0.5625 6.1875 -0.4375 C 6.1875 -0.078125 6.34375 0.109375 6.65625 0.109375 C 7.21875 0.109375 7.75 -0.28125 8.390625 -1.171875 Z M 8.453125 -1.265625 \" style=\"stroke:none;\"/>\n",
       "</symbol>\n",
       "<symbol id=\"glyph0-5\" overflow=\"visible\">\n",
       "<path d=\"M 4.84375 -5.109375 C 4.84375 -5.25 4.8125 -5.28125 4.734375 -5.28125 C 4.6875 -5.28125 4.640625 -5.25 4.578125 -5.15625 L 2.28125 -1.515625 C 2.234375 -2.5625 2.0625 -4.0625 1.890625 -4.890625 C 1.8125 -5.265625 1.796875 -5.296875 1.671875 -5.296875 C 1.578125 -5.296875 1.46875 -5.25 1.3125 -5.203125 C 0.953125 -5.109375 0.546875 -5.0625 0.1875 -5 L 0.1875 -4.84375 L 0.515625 -4.84375 C 0.859375 -4.84375 0.96875 -4.78125 1.078125 -4.34375 C 1.21875 -3.765625 1.359375 -2.484375 1.40625 -1.4375 L 1.453125 -0.34375 C 1.46875 0.125 1.5 0.21875 1.609375 0.21875 C 1.734375 0.21875 1.9375 -0.078125 2.375 -0.90625 C 2.609375 -1.34375 2.8125 -1.734375 3.03125 -2.09375 L 4.109375 -3.921875 L 4.453125 -0.203125 C 4.46875 0.109375 4.5 0.21875 4.578125 0.21875 C 4.6875 0.21875 4.796875 0.09375 5.125 -0.296875 L 5.234375 -0.4375 C 6.890625 -2.453125 7.78125 -3.859375 7.78125 -4.625 C 7.78125 -5 7.515625 -5.296875 7.15625 -5.296875 C 6.890625 -5.296875 6.6875 -5.109375 6.6875 -4.921875 C 6.6875 -4.75 6.75 -4.609375 6.9375 -4.421875 C 7.125 -4.25 7.203125 -4.15625 7.203125 -4.015625 C 7.203125 -3.484375 6.796875 -2.859375 5.21875 -0.890625 Z M 4.84375 -5.109375 \" style=\"stroke:none;\"/>\n",
       "</symbol>\n",
       "<symbol id=\"glyph1-0\" overflow=\"visible\">\n",
       "<path d=\"M 4.15625 11.578125 C 3.28125 10.878906 2.632812 10.003906 2.21875 8.953125 C 1.8125 7.910156 1.609375 6.789062 1.609375 5.59375 C 1.609375 4.394531 1.8125 3.269531 2.21875 2.21875 C 2.632812 1.164062 3.28125 0.300781 4.15625 -0.375 C 4.15625 -0.394531 4.175781 -0.40625 4.21875 -0.40625 L 4.34375 -0.40625 C 4.363281 -0.40625 4.378906 -0.394531 4.390625 -0.375 C 4.410156 -0.351562 4.421875 -0.332031 4.421875 -0.3125 C 4.421875 -0.28125 4.414062 -0.257812 4.40625 -0.25 C 4.019531 0.125 3.695312 0.539062 3.4375 1 C 3.175781 1.457031 2.96875 1.929688 2.8125 2.421875 C 2.664062 2.921875 2.554688 3.4375 2.484375 3.96875 C 2.421875 4.507812 2.390625 5.054688 2.390625 5.609375 C 2.390625 8.191406 3.0625 10.132812 4.40625 11.4375 C 4.414062 11.445312 4.421875 11.46875 4.421875 11.5 C 4.421875 11.519531 4.410156 11.539062 4.390625 11.5625 C 4.378906 11.582031 4.363281 11.59375 4.34375 11.59375 L 4.21875 11.59375 C 4.175781 11.59375 4.15625 11.585938 4.15625 11.578125 Z M 4.15625 11.578125 \" style=\"stroke:none;\"/>\n",
       "</symbol>\n",
       "<symbol id=\"glyph2-0\" overflow=\"visible\">\n",
       "<path d=\"M 1.59375 0.171875 L 1.59375 -8.109375 L 0.796875 -8.109375 L 0.796875 0.171875 Z M 1.59375 0.171875 \" style=\"stroke:none;\"/>\n",
       "</symbol>\n",
       "<symbol id=\"glyph2-1\" overflow=\"visible\">\n",
       "<path d=\"M 1 1.6875 C 1.828125 1.296875 2.34375 0.546875 2.34375 -0.1875 C 2.34375 -0.796875 1.921875 -1.21875 1.375 -1.21875 C 0.953125 -1.21875 0.65625 -0.953125 0.65625 -0.546875 C 0.65625 -0.125 0.90625 0.078125 1.359375 0.078125 C 1.484375 0.078125 1.609375 0.03125 1.703125 0.03125 C 1.796875 0.03125 1.875 0.09375 1.875 0.1875 C 1.875 0.578125 1.53125 1.015625 0.875 1.46875 Z M 1 1.6875 \" style=\"stroke:none;\"/>\n",
       "</symbol>\n",
       "<symbol id=\"glyph2-2\" overflow=\"visible\">\n",
       "<path d=\"M 2.171875 -0.515625 C 2.171875 -0.875 1.859375 -1.203125 1.515625 -1.203125 C 1.140625 -1.203125 0.84375 -0.90625 0.84375 -0.53125 C 0.84375 -0.15625 1.125 0.125 1.5 0.125 C 1.859375 0.125 2.171875 -0.171875 2.171875 -0.515625 Z M 2.171875 -0.515625 \" style=\"stroke:none;\"/>\n",
       "</symbol>\n",
       "<symbol id=\"glyph2-3\" overflow=\"visible\">\n",
       "<path d=\"M 7.71875 -1.015625 C 7 -1.015625 6.40625 -1.625 5.640625 -2.90625 L 5.640625 -2.9375 C 5.96875 -3.484375 6.640625 -4.15625 7.71875 -4.15625 L 7.71875 -5.15625 C 6.5 -5.15625 5.953125 -4.390625 5.40625 -3.390625 C 4.265625 -4.9375 3.65625 -5.15625 2.78125 -5.15625 C 2.09375 -5.15625 0.484375 -4.609375 0.484375 -2.40625 C 0.484375 -0.75 1.578125 0 2.609375 0 C 3.75 0 4.578125 -0.640625 5.109375 -1.734375 C 5.859375 -0.640625 6.546875 0 7.71875 0 Z M 4.84375 -2.171875 C 4.53125 -1.734375 3.953125 -1.015625 2.875 -1.015625 C 1.828125 -1.015625 1.21875 -2 1.21875 -3.03125 C 1.21875 -3.796875 1.734375 -4.453125 2.40625 -4.453125 C 3.234375 -4.453125 3.984375 -3.640625 4.84375 -2.203125 Z M 4.84375 -2.171875 \" style=\"stroke:none;\"/>\n",
       "</symbol>\n",
       "<symbol id=\"glyph2-4\" overflow=\"visible\">\n",
       "<path d=\"M 2.4375 -3.03125 C 2.4375 -3.421875 2.109375 -3.75 1.734375 -3.75 C 1.328125 -3.75 1 -3.390625 1 -3.03125 C 1 -2.671875 1.328125 -2.3125 1.734375 -2.3125 C 2.109375 -2.3125 2.4375 -2.65625 2.4375 -3.03125 Z M 2.4375 -3.03125 \" style=\"stroke:none;\"/>\n",
       "</symbol>\n",
       "<symbol id=\"glyph3-0\" overflow=\"visible\">\n",
       "<path d=\"M 3.359375 0 L 3.359375 -0.125 C 2.71875 -0.125 2.546875 -0.28125 2.546875 -0.640625 L 2.546875 -5.734375 L 2.46875 -5.75 L 0.9375 -4.984375 L 0.9375 -4.859375 L 1.171875 -4.953125 C 1.328125 -5 1.46875 -5.046875 1.5625 -5.046875 C 1.734375 -5.046875 1.8125 -4.921875 1.8125 -4.625 L 1.8125 -0.8125 C 1.8125 -0.34375 1.640625 -0.15625 1 -0.125 L 1 0 Z M 3.359375 0 \" style=\"stroke:none;\"/>\n",
       "</symbol>\n",
       "<symbol id=\"glyph3-1\" overflow=\"visible\">\n",
       "<path d=\"M 4.03125 -1.171875 L 3.921875 -1.21875 C 3.640625 -0.734375 3.453125 -0.640625 3.09375 -0.640625 L 1.109375 -0.640625 L 2.515625 -2.140625 C 3.265625 -2.953125 3.609375 -3.578125 3.609375 -4.25 C 3.609375 -5.09375 2.984375 -5.75 2.03125 -5.75 C 0.984375 -5.75 0.4375 -5.0625 0.25 -4.0625 L 0.4375 -4.015625 C 0.78125 -4.859375 1.078125 -5.125 1.6875 -5.125 C 2.40625 -5.125 2.875 -4.703125 2.875 -3.921875 C 2.875 -3.203125 2.5625 -2.546875 1.765625 -1.71875 L 0.25 -0.109375 L 0.25 0 L 3.578125 0 Z M 4.03125 -1.171875 \" style=\"stroke:none;\"/>\n",
       "</symbol>\n",
       "<symbol id=\"glyph3-2\" overflow=\"visible\">\n",
       "<path d=\"M 5.421875 -2.71875 L 5.421875 -3.28125 L 0.40625 -3.28125 L 0.40625 -2.71875 Z M 5.421875 -1.015625 L 5.421875 -1.578125 L 0.40625 -1.578125 L 0.40625 -1.015625 Z M 5.421875 -1.015625 \" style=\"stroke:none;\"/>\n",
       "</symbol>\n",
       "<symbol id=\"glyph4-0\" overflow=\"visible\">\n",
       "<path d=\"M 3.921875 -1 C 3.859375 -0.921875 3.796875 -0.84375 3.734375 -0.78125 C 3.484375 -0.453125 3.34375 -0.328125 3.21875 -0.328125 C 3.109375 -0.328125 3.078125 -0.40625 3.078125 -0.484375 C 3.078125 -0.546875 3.109375 -0.6875 3.203125 -1 L 3.671875 -2.71875 C 3.734375 -2.90625 3.765625 -3.078125 3.765625 -3.234375 C 3.765625 -3.546875 3.578125 -3.75 3.203125 -3.75 C 2.671875 -3.75 2.09375 -3.25 1.25 -1.875 L 1.8125 -3.734375 L 1.78125 -3.75 C 1.328125 -3.65625 1.09375 -3.625 0.40625 -3.484375 L 0.40625 -3.359375 C 0.828125 -3.34375 0.953125 -3.296875 0.953125 -3.125 C 0.953125 -3.078125 0.9375 -3.015625 0.9375 -2.984375 L 0.125 0 L 0.765625 0 C 1.15625 -1.34375 1.21875 -1.546875 1.609375 -2.109375 C 2.140625 -2.90625 2.53125 -3.328125 2.875 -3.328125 C 3 -3.328125 3.078125 -3.234375 3.078125 -3.078125 C 3.078125 -2.96875 3.015625 -2.671875 2.953125 -2.40625 L 2.578125 -1.015625 C 2.46875 -0.578125 2.4375 -0.46875 2.4375 -0.390625 C 2.4375 -0.0625 2.625 0.078125 2.84375 0.078125 C 3.25 0.078125 3.453125 -0.09375 4.03125 -0.890625 Z M 3.921875 -1 \" style=\"stroke:none;\"/>\n",
       "</symbol>\n",
       "<symbol id=\"glyph4-1\" overflow=\"visible\">\n",
       "<path d=\"M 2.25 -5.09375 C 2.25 -5.34375 2.046875 -5.5625 1.828125 -5.5625 C 1.59375 -5.5625 1.421875 -5.375 1.421875 -5.125 C 1.421875 -4.84375 1.578125 -4.671875 1.828125 -4.671875 C 2.046875 -4.671875 2.25 -4.859375 2.25 -5.09375 Z M 1.890625 -0.96875 C 1.53125 -0.484375 1.3125 -0.3125 1.171875 -0.3125 C 1.109375 -0.3125 1.0625 -0.34375 1.0625 -0.4375 C 1.0625 -0.546875 1.09375 -0.671875 1.140625 -0.8125 L 1.9375 -3.734375 L 1.90625 -3.75 C 1.046875 -3.59375 0.875 -3.5625 0.546875 -3.546875 L 0.546875 -3.40625 C 1 -3.390625 1.09375 -3.375 1.09375 -3.203125 C 1.09375 -3.140625 1.0625 -2.984375 1.015625 -2.828125 L 0.609375 -1.3125 C 0.484375 -0.84375 0.421875 -0.546875 0.421875 -0.375 C 0.421875 -0.0625 0.546875 0.09375 0.828125 0.09375 C 1.265625 0.09375 1.53125 -0.15625 2 -0.875 Z M 1.890625 -0.96875 \" style=\"stroke:none;\"/>\n",
       "</symbol>\n",
       "<symbol id=\"glyph5-0\" overflow=\"visible\">\n",
       "<path d=\"M 0.53125 11.59375 C 0.46875 11.59375 0.4375 11.5625 0.4375 11.5 C 0.4375 11.46875 0.445312 11.445312 0.46875 11.4375 C 0.976562 10.9375 1.378906 10.367188 1.671875 9.734375 C 1.972656 9.109375 2.1875 8.445312 2.3125 7.75 C 2.4375 7.050781 2.5 6.332031 2.5 5.59375 C 2.5 3 1.820312 1.050781 0.46875 -0.25 C 0.445312 -0.257812 0.4375 -0.28125 0.4375 -0.3125 C 0.4375 -0.375 0.46875 -0.40625 0.53125 -0.40625 L 0.671875 -0.40625 C 0.691406 -0.40625 0.707031 -0.394531 0.71875 -0.375 C 1.601562 0.300781 2.25 1.164062 2.65625 2.21875 C 3.070312 3.269531 3.28125 4.394531 3.28125 5.59375 C 3.28125 6.789062 3.070312 7.910156 2.65625 8.953125 C 2.25 10.003906 1.601562 10.878906 0.71875 11.578125 C 0.707031 11.585938 0.691406 11.59375 0.671875 11.59375 Z M 0.53125 11.59375 \" style=\"stroke:none;\"/>\n",
       "</symbol>\n",
       "<symbol id=\"glyph6-0\" overflow=\"visible\">\n",
       "<path d=\"M 0.484375 12.015625 L 0.484375 11.546875 C 1.410156 11.546875 1.875 11.257812 1.875 10.6875 L 1.875 1.3125 C 1.875 0.75 1.410156 0.46875 0.484375 0.46875 L 0.484375 0 L 10.4375 0 L 10.4375 0.46875 C 9.5 0.46875 9.03125 0.75 9.03125 1.3125 L 9.03125 10.6875 C 9.03125 11.257812 9.5 11.546875 10.4375 11.546875 L 10.4375 12.015625 L 6.296875 12.015625 L 6.296875 11.546875 C 7.222656 11.546875 7.6875 11.257812 7.6875 10.6875 L 7.6875 0.46875 L 3.21875 0.46875 L 3.21875 10.6875 C 3.21875 11.257812 3.6875 11.546875 4.625 11.546875 L 4.625 12.015625 Z M 0.484375 12.015625 \" style=\"stroke:none;\"/>\n",
       "</symbol>\n",
       "</g>\n",
       "</defs>\n",
       "<g id=\"surface1\">\n",
       "<g style=\"fill:rgb(0%,0%,0%);fill-opacity:1;\">\n",
       "  <use x=\"0.667969\" xlink:href=\"#glyph0-0\" y=\"9.554688\"/>\n",
       "</g>\n",
       "<g style=\"fill:rgb(0%,0%,0%);fill-opacity:1;\">\n",
       "  <use x=\"7.644531\" xlink:href=\"#glyph1-0\" y=\"0.920068\"/>\n",
       "</g>\n",
       "<g style=\"fill:rgb(0%,0%,0%);fill-opacity:1;\">\n",
       "  <use x=\"13.207031\" xlink:href=\"#glyph0-1\" y=\"9.554688\"/>\n",
       "</g>\n",
       "<g style=\"fill:rgb(0%,0%,0%);fill-opacity:1;\">\n",
       "  <use x=\"21.542969\" xlink:href=\"#glyph0-2\" y=\"9.554688\"/>\n",
       "</g>\n",
       "<g style=\"fill:rgb(0%,0%,0%);fill-opacity:1;\">\n",
       "  <use x=\"28.328125\" xlink:href=\"#glyph0-3\" y=\"9.554688\"/>\n",
       "</g>\n",
       "<g style=\"fill:rgb(0%,0%,0%);fill-opacity:1;\">\n",
       "  <use x=\"35.238281\" xlink:href=\"#glyph0-4\" y=\"9.554688\"/>\n",
       "</g>\n",
       "<g style=\"fill:rgb(0%,0%,0%);fill-opacity:1;\">\n",
       "  <use x=\"44.230469\" xlink:href=\"#glyph2-0\" y=\"9.554688\"/>\n",
       "</g>\n",
       "<g style=\"fill:rgb(0%,0%,0%);fill-opacity:1;\">\n",
       "  <use x=\"46.96875\" xlink:href=\"#glyph0-5\" y=\"9.554688\"/>\n",
       "</g>\n",
       "<g style=\"fill:rgb(0%,0%,0%);fill-opacity:1;\">\n",
       "  <use x=\"54.953125\" xlink:href=\"#glyph3-0\" y=\"12.265625\"/>\n",
       "</g>\n",
       "<g style=\"fill:rgb(0%,0%,0%);fill-opacity:1;\">\n",
       "  <use x=\"58.796875\" xlink:href=\"#glyph2-1\" y=\"9.554688\"/>\n",
       "</g>\n",
       "<g style=\"fill:rgb(0%,0%,0%);fill-opacity:1;\">\n",
       "  <use x=\"66.285156\" xlink:href=\"#glyph0-5\" y=\"9.554688\"/>\n",
       "</g>\n",
       "<g style=\"fill:rgb(0%,0%,0%);fill-opacity:1;\">\n",
       "  <use x=\"74.957031\" xlink:href=\"#glyph3-1\" y=\"12.265625\"/>\n",
       "</g>\n",
       "<g style=\"fill:rgb(0%,0%,0%);fill-opacity:1;\">\n",
       "  <use x=\"79.472656\" xlink:href=\"#glyph2-1\" y=\"9.554688\"/>\n",
       "</g>\n",
       "<g style=\"fill:rgb(0%,0%,0%);fill-opacity:1;\">\n",
       "  <use x=\"86.304688\" xlink:href=\"#glyph2-2\" y=\"9.554688\"/>\n",
       "</g>\n",
       "<g style=\"fill:rgb(0%,0%,0%);fill-opacity:1;\">\n",
       "  <use x=\"88.964844\" xlink:href=\"#glyph2-2\" y=\"9.554688\"/>\n",
       "</g>\n",
       "<g style=\"fill:rgb(0%,0%,0%);fill-opacity:1;\">\n",
       "  <use x=\"91.628906\" xlink:href=\"#glyph2-2\" y=\"9.554688\"/>\n",
       "</g>\n",
       "<g style=\"fill:rgb(0%,0%,0%);fill-opacity:1;\">\n",
       "  <use x=\"94.476562\" xlink:href=\"#glyph2-1\" y=\"9.554688\"/>\n",
       "</g>\n",
       "<g style=\"fill:rgb(0%,0%,0%);fill-opacity:1;\">\n",
       "  <use x=\"101.964844\" xlink:href=\"#glyph0-5\" y=\"9.554688\"/>\n",
       "</g>\n",
       "<g style=\"fill:rgb(0%,0%,0%);fill-opacity:1;\">\n",
       "  <use x=\"110.761719\" xlink:href=\"#glyph4-0\" y=\"10.859375\"/>\n",
       "</g>\n",
       "<g style=\"fill:rgb(0%,0%,0%);fill-opacity:1;\">\n",
       "  <use x=\"115.484375\" xlink:href=\"#glyph5-0\" y=\"0.920068\"/>\n",
       "</g>\n",
       "<g style=\"fill:rgb(0%,0%,0%);fill-opacity:1;\">\n",
       "  <use x=\"122.945312\" xlink:href=\"#glyph2-3\" y=\"9.554688\"/>\n",
       "</g>\n",
       "<g style=\"fill:rgb(0%,0%,0%);fill-opacity:1;\">\n",
       "  <use x=\"135.328125\" xlink:href=\"#glyph0-0\" y=\"9.554688\"/>\n",
       "</g>\n",
       "<g style=\"fill:rgb(0%,0%,0%);fill-opacity:1;\">\n",
       "  <use x=\"142.308594\" xlink:href=\"#glyph1-0\" y=\"0.920068\"/>\n",
       "</g>\n",
       "<g style=\"fill:rgb(0%,0%,0%);fill-opacity:1;\">\n",
       "  <use x=\"147.871094\" xlink:href=\"#glyph0-1\" y=\"9.554688\"/>\n",
       "</g>\n",
       "<g style=\"fill:rgb(0%,0%,0%);fill-opacity:1;\">\n",
       "  <use x=\"156.203125\" xlink:href=\"#glyph0-2\" y=\"9.554688\"/>\n",
       "</g>\n",
       "<g style=\"fill:rgb(0%,0%,0%);fill-opacity:1;\">\n",
       "  <use x=\"162.992188\" xlink:href=\"#glyph0-3\" y=\"9.554688\"/>\n",
       "</g>\n",
       "<g style=\"fill:rgb(0%,0%,0%);fill-opacity:1;\">\n",
       "  <use x=\"169.902344\" xlink:href=\"#glyph0-4\" y=\"9.554688\"/>\n",
       "</g>\n",
       "<g style=\"fill:rgb(0%,0%,0%);fill-opacity:1;\">\n",
       "  <use x=\"179.238281\" xlink:href=\"#glyph5-0\" y=\"0.920068\"/>\n",
       "</g>\n",
       "<g style=\"fill:rgb(0%,0%,0%);fill-opacity:1;\">\n",
       "  <use x=\"186.183594\" xlink:href=\"#glyph2-4\" y=\"9.554688\"/>\n",
       "</g>\n",
       "<g style=\"fill:rgb(0%,0%,0%);fill-opacity:1;\">\n",
       "  <use x=\"192.808594\" xlink:href=\"#glyph6-0\" y=\"0.516577\"/>\n",
       "</g>\n",
       "<g style=\"fill:rgb(0%,0%,0%);fill-opacity:1;\">\n",
       "  <use x=\"203.976562\" xlink:href=\"#glyph4-1\" y=\"13.59375\"/>\n",
       "</g>\n",
       "<g style=\"fill:rgb(0%,0%,0%);fill-opacity:1;\">\n",
       "  <use x=\"210.097656\" xlink:href=\"#glyph3-2\" y=\"13.59375\"/>\n",
       "</g>\n",
       "<g style=\"fill:rgb(0%,0%,0%);fill-opacity:1;\">\n",
       "  <use x=\"218.863281\" xlink:href=\"#glyph3-0\" y=\"13.59375\"/>\n",
       "</g>\n",
       "<g style=\"fill:rgb(0%,0%,0%);fill-opacity:1;\">\n",
       "  <use x=\"204.273438\" xlink:href=\"#glyph4-0\" y=\"3.75\"/>\n",
       "</g>\n",
       "<g style=\"fill:rgb(0%,0%,0%);fill-opacity:1;\">\n",
       "  <use x=\"225.363281\" xlink:href=\"#glyph0-0\" y=\"9.554688\"/>\n",
       "</g>\n",
       "<g style=\"fill:rgb(0%,0%,0%);fill-opacity:1;\">\n",
       "  <use x=\"232.339844\" xlink:href=\"#glyph1-0\" y=\"0.920068\"/>\n",
       "</g>\n",
       "<g style=\"fill:rgb(0%,0%,0%);fill-opacity:1;\">\n",
       "  <use x=\"237.917969\" xlink:href=\"#glyph0-5\" y=\"9.554688\"/>\n",
       "</g>\n",
       "<g style=\"fill:rgb(0%,0%,0%);fill-opacity:1;\">\n",
       "  <use x=\"246.417969\" xlink:href=\"#glyph4-1\" y=\"12.078125\"/>\n",
       "</g>\n",
       "<g style=\"fill:rgb(0%,0%,0%);fill-opacity:1;\">\n",
       "  <use x=\"249.011719\" xlink:href=\"#glyph2-0\" y=\"9.554688\"/>\n",
       "</g>\n",
       "<g style=\"fill:rgb(0%,0%,0%);fill-opacity:1;\">\n",
       "  <use x=\"251.734375\" xlink:href=\"#glyph0-1\" y=\"9.554688\"/>\n",
       "</g>\n",
       "<g style=\"fill:rgb(0%,0%,0%);fill-opacity:1;\">\n",
       "  <use x=\"260.070312\" xlink:href=\"#glyph0-2\" y=\"9.554688\"/>\n",
       "</g>\n",
       "<g style=\"fill:rgb(0%,0%,0%);fill-opacity:1;\">\n",
       "  <use x=\"266.855469\" xlink:href=\"#glyph0-3\" y=\"9.554688\"/>\n",
       "</g>\n",
       "<g style=\"fill:rgb(0%,0%,0%);fill-opacity:1;\">\n",
       "  <use x=\"273.765625\" xlink:href=\"#glyph0-4\" y=\"9.554688\"/>\n",
       "</g>\n",
       "<g style=\"fill:rgb(0%,0%,0%);fill-opacity:1;\">\n",
       "  <use x=\"283.105469\" xlink:href=\"#glyph5-0\" y=\"0.920068\"/>\n",
       "</g>\n",
       "</g>\n",
       "</svg>"
      ],
      "text/plain": [
       "<IPython.core.display.SVG object>"
      ]
     },
     "execution_count": 27,
     "metadata": {},
     "output_type": "execute_result"
    }
   ],
   "source": [
    "from IPython.display import SVG\n",
    "SVG('spam seond image.svg')\n",
    "#SVG('spam second image.svg')"
   ]
  },
  {
   "cell_type": "markdown",
   "metadata": {},
   "source": [
    "Same applies to ham \n",
    "\n",
    "Also, to calculate P($w_{i}$|Spam) and P($w_{i}$|ham) inside the formulas above, we will need to use these equations:\n"
   ]
  },
  {
   "cell_type": "markdown",
   "metadata": {},
   "source": [
    "P($w_{i}$|Spam) = N($w_{i}|Spam$) + alpha/N($_{Spam}$) + alpha * N($_{Vocabulary}$)"
   ]
  },
  {
   "cell_type": "markdown",
   "metadata": {},
   "source": [
    "Same applies to ham\n",
    "\n",
    "Some of the terms in the four equations above will have the same value for every new message.We can calculate the value of these terms once and avoid doing the computations again when new messages comes in. Below, we will use our training set to calculate:\n",
    "- P(Spam) and P(Ham)\n",
    "- N($_{Spam}$),N($_{Ham}$,N($_{Vocalbulary)}$\n",
    "\n",
    "We will also use Laplace smoothning and set alpha to 1"
   ]
  },
  {
   "cell_type": "code",
   "execution_count": 28,
   "metadata": {
    "collapsed": false
   },
   "outputs": [],
   "source": [
    "train_label_set = train_label\n",
    "# calculating the probability of non spam messages in the data set P(Spam)and P(Ham)\n",
    "p_ham= len(train_label_set[train_label_set['Label']=='ham'])/len(train_label_set)\n",
    "p_spam = len(train_label_set[train_label_set['Label']=='spam'])/len(train_label_set)"
   ]
  },
  {
   "cell_type": "code",
   "execution_count": 29,
   "metadata": {
    "collapsed": true
   },
   "outputs": [],
   "source": [
    "#Isolating spam and ham messages \n",
    "train_spam = train_label_set[train_label_set['Label']=='spam']\n",
    "train_ham = train_label_set[train_label_set['Label']== 'ham']"
   ]
  },
  {
   "cell_type": "code",
   "execution_count": 30,
   "metadata": {
    "collapsed": false
   },
   "outputs": [
    {
     "data": {
      "text/plain": [
       "15190"
      ]
     },
     "execution_count": 30,
     "metadata": {},
     "output_type": "execute_result"
    }
   ],
   "source": [
    "n_spam = (train_spam['SMS'].apply(len)).sum() # sum numbers of spam words\n",
    "n_spam"
   ]
  },
  {
   "cell_type": "code",
   "execution_count": 31,
   "metadata": {
    "collapsed": false
   },
   "outputs": [],
   "source": [
    "train_ham_len = train_ham['SMS'].apply(len) #numbers of ham words\n",
    "n_ham = train_ham_len.sum()"
   ]
  },
  {
   "cell_type": "code",
   "execution_count": 32,
   "metadata": {
    "collapsed": false
   },
   "outputs": [],
   "source": [
    "# numbers of vocabulary\n",
    "n_vocabulary = len(train_vocab_list)\n",
    "n_vocabulary\n",
    "# Laplace smoothning\n",
    "alpha = 1"
   ]
  },
  {
   "cell_type": "code",
   "execution_count": 33,
   "metadata": {
    "collapsed": false
   },
   "outputs": [
    {
     "data": {
      "text/html": [
       "<div>\n",
       "<style scoped>\n",
       "    .dataframe tbody tr th:only-of-type {\n",
       "        vertical-align: middle;\n",
       "    }\n",
       "\n",
       "    .dataframe tbody tr th {\n",
       "        vertical-align: top;\n",
       "    }\n",
       "\n",
       "    .dataframe thead th {\n",
       "        text-align: right;\n",
       "    }\n",
       "</style>\n",
       "<table border=\"1\" class=\"dataframe\">\n",
       "  <thead>\n",
       "    <tr style=\"text-align: right;\">\n",
       "      <th></th>\n",
       "      <th>Label</th>\n",
       "      <th>SMS</th>\n",
       "      <th>0</th>\n",
       "      <th>00</th>\n",
       "      <th>000</th>\n",
       "      <th>000pes</th>\n",
       "      <th>008704050406</th>\n",
       "      <th>0089</th>\n",
       "      <th>01223585334</th>\n",
       "      <th>02</th>\n",
       "      <th>...</th>\n",
       "      <th>zindgi</th>\n",
       "      <th>zoe</th>\n",
       "      <th>zogtorius</th>\n",
       "      <th>zouk</th>\n",
       "      <th>zyada</th>\n",
       "      <th>é</th>\n",
       "      <th>ú1</th>\n",
       "      <th>ü</th>\n",
       "      <th>〨ud</th>\n",
       "      <th>鈥</th>\n",
       "    </tr>\n",
       "  </thead>\n",
       "  <tbody>\n",
       "    <tr>\n",
       "      <th>16</th>\n",
       "      <td>spam</td>\n",
       "      <td>[freemsg, why, haven, t, you, replied, to, my,...</td>\n",
       "      <td>0</td>\n",
       "      <td>0</td>\n",
       "      <td>0</td>\n",
       "      <td>0</td>\n",
       "      <td>0</td>\n",
       "      <td>0</td>\n",
       "      <td>0</td>\n",
       "      <td>0</td>\n",
       "      <td>...</td>\n",
       "      <td>0</td>\n",
       "      <td>0</td>\n",
       "      <td>0</td>\n",
       "      <td>0</td>\n",
       "      <td>0</td>\n",
       "      <td>0</td>\n",
       "      <td>0</td>\n",
       "      <td>0</td>\n",
       "      <td>0</td>\n",
       "      <td>0</td>\n",
       "    </tr>\n",
       "    <tr>\n",
       "      <th>18</th>\n",
       "      <td>spam</td>\n",
       "      <td>[congrats, 2, mobile, 3g, videophones, r, your...</td>\n",
       "      <td>0</td>\n",
       "      <td>0</td>\n",
       "      <td>0</td>\n",
       "      <td>0</td>\n",
       "      <td>0</td>\n",
       "      <td>0</td>\n",
       "      <td>0</td>\n",
       "      <td>0</td>\n",
       "      <td>...</td>\n",
       "      <td>0</td>\n",
       "      <td>0</td>\n",
       "      <td>0</td>\n",
       "      <td>0</td>\n",
       "      <td>0</td>\n",
       "      <td>0</td>\n",
       "      <td>0</td>\n",
       "      <td>0</td>\n",
       "      <td>0</td>\n",
       "      <td>0</td>\n",
       "    </tr>\n",
       "  </tbody>\n",
       "</table>\n",
       "<p>2 rows × 7785 columns</p>\n",
       "</div>"
      ],
      "text/plain": [
       "   Label                                                SMS  0  00  000  \\\n",
       "16  spam  [freemsg, why, haven, t, you, replied, to, my,...  0   0    0   \n",
       "18  spam  [congrats, 2, mobile, 3g, videophones, r, your...  0   0    0   \n",
       "\n",
       "    000pes  008704050406  0089  01223585334  02 ...  zindgi  zoe  zogtorius  \\\n",
       "16       0             0     0            0   0 ...       0    0          0   \n",
       "18       0             0     0            0   0 ...       0    0          0   \n",
       "\n",
       "    zouk  zyada  é  ú1  ü  〨ud  鈥  \n",
       "16     0      0  0   0  0    0  0  \n",
       "18     0      0  0   0  0    0  0  \n",
       "\n",
       "[2 rows x 7785 columns]"
      ]
     },
     "execution_count": 33,
     "metadata": {},
     "output_type": "execute_result"
    }
   ],
   "source": [
    "train_spam.head(2)"
   ]
  },
  {
   "cell_type": "code",
   "execution_count": 34,
   "metadata": {
    "collapsed": false
   },
   "outputs": [],
   "source": [
    "# Initiate parameters\n",
    "parameters_spam = {unique_word_spam:0 for unique_word_spam in train_vocab_list}\n",
    "parameters_ham = {unique_word: 0 for unique_word in train_vocab_list}\n",
    "# calculate parameters\n",
    "for word in train_vocab_list:\n",
    "    n_word_given_spam = train_spam[word].sum() # train_spam already defined in a cell above\n",
    "    p_word_given_spam = (n_word_given_spam +alpha)/((n_spam)+(alpha * n_vocabulary))\n",
    "    parameters_spam[word]= p_word_given_spam\n",
    "for word in train_vocab_list:\n",
    "    n_word_given_ham = train_ham[word].sum() # train_ham already defined in a cell above\n",
    "    p_word_given_ham = (n_word_given_ham+alpha)/((n_ham)+(alpha*n_vocabulary))\n",
    "    parameters_ham[word] = p_word_given_ham"
   ]
  },
  {
   "cell_type": "markdown",
   "metadata": {},
   "source": [
    "# Classifying A New Message"
   ]
  },
  {
   "cell_type": "markdown",
   "metadata": {},
   "source": [
    "Now that we have all our parameters calculated, we can start creating the spam filter. The spam filter can be understood as a function that:\n",
    "- Takes in as input a new message ($w_{1}$,$w_{2}$,$w_{3}$,.....,$w_{n}$)\n",
    "- Calculates P(Spam|$w_{1}$,$w_{2}$,....,$w_{n}$)\n",
    "- Compares the values of P(Spam|$w_{1}$,$w_{2}$,...,$w_{n}$) and P(Ham|$w_{1}$,$w_{2}$,...,$w_{n}$)\n",
    "- If P(Ham|$w_{1}$,$w_{2}$,...,$w_{n}$) > P(Spam|$w_{1}$,$w_{2}$,...,$w_{n}$), then the message is classified as ham\n",
    "- If P(Ham|$w_{1}$,$w_{2}$,...,$w_{n}$) < P(Spam|$w_{1}$,$w_{2}$,...,$w_{n}$), then the message is classdified as spam\n",
    "- If P(Ham|$w_{1}$,$w_{2}$,...,$w_{n}$) == P(Spam|$w_{1}$,$w_{2}$,...,$w_{n}$), then the algorithm may request human help."
   ]
  },
  {
   "cell_type": "code",
   "execution_count": 35,
   "metadata": {
    "collapsed": false
   },
   "outputs": [],
   "source": [
    "import re # regex or regular expression\n",
    "def classify(message):\n",
    "    message = re.sub('\\W',' ',message)\n",
    "    message = message.lower() # to avoid discrepancies due to capitalization\n",
    "    message = message.split() # split each string at white space into one single list at \n",
    "    p_spam_given_message = p_spam\n",
    "    p_ham_given_message = p_ham\n",
    "    for word in message:\n",
    "        if word in parameters_spam:\n",
    "            p_spam_given_message *= parameters_spam[word] \n",
    "    for word in message:\n",
    "            if word in parameters_ham:\n",
    "                p_ham_given_message *= parameters_ham[word]\n",
    "    p_ham_given_message *= p_ham\n",
    "    print('P(Spam|message):',p_spam_given_message)\n",
    "    print('P(Ham|message):',p_ham_given_message)\n",
    "    if p_ham_given_message > p_spam_given_message:\n",
    "        print('Label: Ham')\n",
    "    elif p_spam_given_message > p_ham_given_message:\n",
    "        print('Label: Spam')\n",
    "    else:\n",
    "        print('Hey humam there is equal probabilities,please can you use your brain to classidy this!')\n",
    "        "
   ]
  },
  {
   "cell_type": "code",
   "execution_count": 36,
   "metadata": {
    "collapsed": false
   },
   "outputs": [
    {
     "name": "stdout",
     "output_type": "stream",
     "text": [
      "P(Spam|message): 1.3481290211300841e-25\n",
      "P(Ham|message): 1.6761312954755437e-27\n",
      "Label: Spam\n"
     ]
    }
   ],
   "source": [
    "classify('Winner!! This is the secret code to unlock the money: C3421')"
   ]
  },
  {
   "cell_type": "code",
   "execution_count": 37,
   "metadata": {
    "collapsed": false
   },
   "outputs": [
    {
     "name": "stdout",
     "output_type": "stream",
     "text": [
      "P(Spam|message): 2.4372375665888117e-25\n",
      "P(Ham|message): 3.1912275500820184e-21\n",
      "Label: Ham\n"
     ]
    }
   ],
   "source": [
    "classify(\"Sounds good, Tom, then see u there\")"
   ]
  },
  {
   "cell_type": "markdown",
   "metadata": {},
   "source": [
    "# Measurung the Spam Filter's Accuracy"
   ]
  },
  {
   "cell_type": "markdown",
   "metadata": {},
   "source": [
    "The two results above looks promising, but let us see how well the filter does on our test set,wgich has 1,114 messages.\n",
    "\n",
    "We will start by writing a function that returns classification labels instead of printing them"
   ]
  },
  {
   "cell_type": "code",
   "execution_count": 38,
   "metadata": {
    "collapsed": false
   },
   "outputs": [],
   "source": [
    "def classify_test_set(message):\n",
    "    message = re.sub('\\W',' ',message)\n",
    "    message = message.lower()\n",
    "    message = message.split()\n",
    "    p_spam_given_message = p_spam\n",
    "    p_ham_given_message = p_ham\n",
    "    for word in message:\n",
    "        if word in parameters_spam:\n",
    "            p_spam_given_message *= parameters_spam[word]\n",
    "        if word in parameters_ham:\n",
    "            p_ham_given_message *= parameters_ham[word]\n",
    "    if p_ham_given_message > p_spam_given_message:\n",
    "        return 'ham'\n",
    "    elif p_spam_given_message > p_ham_given_message:\n",
    "        return 'spam'\n",
    "    else:\n",
    "        return 'needs human classification'"
   ]
  },
  {
   "cell_type": "code",
   "execution_count": 39,
   "metadata": {
    "collapsed": false
   },
   "outputs": [
    {
     "data": {
      "text/html": [
       "<div>\n",
       "<style scoped>\n",
       "    .dataframe tbody tr th:only-of-type {\n",
       "        vertical-align: middle;\n",
       "    }\n",
       "\n",
       "    .dataframe tbody tr th {\n",
       "        vertical-align: top;\n",
       "    }\n",
       "\n",
       "    .dataframe thead th {\n",
       "        text-align: right;\n",
       "    }\n",
       "</style>\n",
       "<table border=\"1\" class=\"dataframe\">\n",
       "  <thead>\n",
       "    <tr style=\"text-align: right;\">\n",
       "      <th></th>\n",
       "      <th>Label</th>\n",
       "      <th>SMS</th>\n",
       "      <th>predicted</th>\n",
       "    </tr>\n",
       "  </thead>\n",
       "  <tbody>\n",
       "    <tr>\n",
       "      <th>0</th>\n",
       "      <td>ham</td>\n",
       "      <td>Later i guess. I needa do mcat study too.</td>\n",
       "      <td>ham</td>\n",
       "    </tr>\n",
       "    <tr>\n",
       "      <th>1</th>\n",
       "      <td>ham</td>\n",
       "      <td>But i haf enuff space got like 4 mb...</td>\n",
       "      <td>ham</td>\n",
       "    </tr>\n",
       "    <tr>\n",
       "      <th>2</th>\n",
       "      <td>spam</td>\n",
       "      <td>Had your mobile 10 mths? Update to latest Oran...</td>\n",
       "      <td>spam</td>\n",
       "    </tr>\n",
       "    <tr>\n",
       "      <th>3</th>\n",
       "      <td>ham</td>\n",
       "      <td>All sounds good. Fingers . Makes it difficult ...</td>\n",
       "      <td>ham</td>\n",
       "    </tr>\n",
       "    <tr>\n",
       "      <th>4</th>\n",
       "      <td>ham</td>\n",
       "      <td>All done, all handed in. Don't know if mega sh...</td>\n",
       "      <td>ham</td>\n",
       "    </tr>\n",
       "  </tbody>\n",
       "</table>\n",
       "</div>"
      ],
      "text/plain": [
       "  Label                                                SMS predicted\n",
       "0   ham          Later i guess. I needa do mcat study too.       ham\n",
       "1   ham             But i haf enuff space got like 4 mb...       ham\n",
       "2  spam  Had your mobile 10 mths? Update to latest Oran...      spam\n",
       "3   ham  All sounds good. Fingers . Makes it difficult ...       ham\n",
       "4   ham  All done, all handed in. Don't know if mega sh...       ham"
      ]
     },
     "execution_count": 39,
     "metadata": {},
     "output_type": "execute_result"
    }
   ],
   "source": [
    "test_set['predicted'] = test_set['SMS'].apply(classify_test_set)\n",
    "test_set.head()"
   ]
  },
  {
   "cell_type": "markdown",
   "metadata": {},
   "source": [
    "# Measuring the accuracy of the model"
   ]
  },
  {
   "cell_type": "markdown",
   "metadata": {},
   "source": [
    "Now we will write a function to measure the accuracy of our spam filter to find out how well our spam filter does."
   ]
  },
  {
   "cell_type": "code",
   "execution_count": 40,
   "metadata": {
    "collapsed": false
   },
   "outputs": [
    {
     "name": "stdout",
     "output_type": "stream",
     "text": [
      "Correct: 1100\n",
      "Incorrect: 14\n",
      "Accuracy: 0.9874326750448833\n"
     ]
    }
   ],
   "source": [
    "correct = 0\n",
    "total = len(test_set)\n",
    "for index,rows in test_set.iterrows():\n",
    "    if rows['Label'] == rows['predicted']:\n",
    "        correct += 1\n",
    "\n",
    "print('Correct:',correct)\n",
    "print('Incorrect:',total-correct)\n",
    "print('Accuracy:',correct/total)\n",
    "        "
   ]
  },
  {
   "cell_type": "markdown",
   "metadata": {},
   "source": [
    "The accuracy is close to 98.74% which is really good. Our spam filter looked at 1,114 messages that has not seem in training, and classified 1,100 correctly"
   ]
  },
  {
   "cell_type": "markdown",
   "metadata": {},
   "source": [
    "# Checking rows that have incorrect labels"
   ]
  },
  {
   "cell_type": "code",
   "execution_count": 41,
   "metadata": {
    "collapsed": false
   },
   "outputs": [
    {
     "data": {
      "text/html": [
       "<div>\n",
       "<style scoped>\n",
       "    .dataframe tbody tr th:only-of-type {\n",
       "        vertical-align: middle;\n",
       "    }\n",
       "\n",
       "    .dataframe tbody tr th {\n",
       "        vertical-align: top;\n",
       "    }\n",
       "\n",
       "    .dataframe thead th {\n",
       "        text-align: right;\n",
       "    }\n",
       "</style>\n",
       "<table border=\"1\" class=\"dataframe\">\n",
       "  <thead>\n",
       "    <tr style=\"text-align: right;\">\n",
       "      <th></th>\n",
       "      <th>Label</th>\n",
       "      <th>SMS</th>\n",
       "      <th>predicted</th>\n",
       "    </tr>\n",
       "  </thead>\n",
       "  <tbody>\n",
       "    <tr>\n",
       "      <th>114</th>\n",
       "      <td>spam</td>\n",
       "      <td>Not heard from U4 a while. Call me now am here...</td>\n",
       "      <td>ham</td>\n",
       "    </tr>\n",
       "    <tr>\n",
       "      <th>135</th>\n",
       "      <td>spam</td>\n",
       "      <td>More people are dogging in your area now. Call...</td>\n",
       "      <td>ham</td>\n",
       "    </tr>\n",
       "    <tr>\n",
       "      <th>152</th>\n",
       "      <td>ham</td>\n",
       "      <td>Unlimited texts. Limited minutes.</td>\n",
       "      <td>spam</td>\n",
       "    </tr>\n",
       "    <tr>\n",
       "      <th>159</th>\n",
       "      <td>ham</td>\n",
       "      <td>26th OF JULY</td>\n",
       "      <td>spam</td>\n",
       "    </tr>\n",
       "    <tr>\n",
       "      <th>284</th>\n",
       "      <td>ham</td>\n",
       "      <td>Nokia phone is lovly..</td>\n",
       "      <td>spam</td>\n",
       "    </tr>\n",
       "    <tr>\n",
       "      <th>293</th>\n",
       "      <td>ham</td>\n",
       "      <td>A Boy loved a gal. He propsd bt she didnt mind...</td>\n",
       "      <td>needs human classification</td>\n",
       "    </tr>\n",
       "    <tr>\n",
       "      <th>302</th>\n",
       "      <td>ham</td>\n",
       "      <td>No calls..messages..missed calls</td>\n",
       "      <td>spam</td>\n",
       "    </tr>\n",
       "    <tr>\n",
       "      <th>319</th>\n",
       "      <td>ham</td>\n",
       "      <td>We have sent JD for Customer Service cum Accou...</td>\n",
       "      <td>spam</td>\n",
       "    </tr>\n",
       "    <tr>\n",
       "      <th>504</th>\n",
       "      <td>spam</td>\n",
       "      <td>Oh my god! I've found your number again! I'm s...</td>\n",
       "      <td>ham</td>\n",
       "    </tr>\n",
       "    <tr>\n",
       "      <th>546</th>\n",
       "      <td>spam</td>\n",
       "      <td>Hi babe its Chloe, how r u? I was smashed on s...</td>\n",
       "      <td>ham</td>\n",
       "    </tr>\n",
       "    <tr>\n",
       "      <th>741</th>\n",
       "      <td>spam</td>\n",
       "      <td>0A$NETWORKS allow companies to bill for SMS, s...</td>\n",
       "      <td>ham</td>\n",
       "    </tr>\n",
       "    <tr>\n",
       "      <th>876</th>\n",
       "      <td>spam</td>\n",
       "      <td>RCT' THNQ Adrian for U text. Rgds Vatian</td>\n",
       "      <td>ham</td>\n",
       "    </tr>\n",
       "    <tr>\n",
       "      <th>885</th>\n",
       "      <td>spam</td>\n",
       "      <td>2/2 146tf150p</td>\n",
       "      <td>ham</td>\n",
       "    </tr>\n",
       "    <tr>\n",
       "      <th>953</th>\n",
       "      <td>spam</td>\n",
       "      <td>Hello. We need some posh birds and chaps to us...</td>\n",
       "      <td>ham</td>\n",
       "    </tr>\n",
       "  </tbody>\n",
       "</table>\n",
       "</div>"
      ],
      "text/plain": [
       "    Label                                                SMS  \\\n",
       "114  spam  Not heard from U4 a while. Call me now am here...   \n",
       "135  spam  More people are dogging in your area now. Call...   \n",
       "152   ham                  Unlimited texts. Limited minutes.   \n",
       "159   ham                                       26th OF JULY   \n",
       "284   ham                             Nokia phone is lovly..   \n",
       "293   ham  A Boy loved a gal. He propsd bt she didnt mind...   \n",
       "302   ham                   No calls..messages..missed calls   \n",
       "319   ham  We have sent JD for Customer Service cum Accou...   \n",
       "504  spam  Oh my god! I've found your number again! I'm s...   \n",
       "546  spam  Hi babe its Chloe, how r u? I was smashed on s...   \n",
       "741  spam  0A$NETWORKS allow companies to bill for SMS, s...   \n",
       "876  spam           RCT' THNQ Adrian for U text. Rgds Vatian   \n",
       "885  spam                                      2/2 146tf150p   \n",
       "953  spam  Hello. We need some posh birds and chaps to us...   \n",
       "\n",
       "                      predicted  \n",
       "114                         ham  \n",
       "135                         ham  \n",
       "152                        spam  \n",
       "159                        spam  \n",
       "284                        spam  \n",
       "293  needs human classification  \n",
       "302                        spam  \n",
       "319                        spam  \n",
       "504                         ham  \n",
       "546                         ham  \n",
       "741                         ham  \n",
       "876                         ham  \n",
       "885                         ham  \n",
       "953                         ham  "
      ]
     },
     "execution_count": 41,
     "metadata": {},
     "output_type": "execute_result"
    }
   ],
   "source": [
    "test_set[test_set['Label']!=test_set['predicted']]"
   ]
  },
  {
   "cell_type": "markdown",
   "metadata": {},
   "source": [
    "We can see that some spam messages contain almost similar messages as that of ham the algorithm classified them as  ham and vice-versa. Also we have only one label that needs human classification, the message ` A Boy loved a gal. He propsd bt she didnt mind..` has equal probability with that of ham as it contains all similar word in ham"
   ]
  },
  {
   "cell_type": "markdown",
   "metadata": {},
   "source": [
    "# making the algorithm more sensitive"
   ]
  },
  {
   "cell_type": "markdown",
   "metadata": {},
   "source": [
    "Here we will not apply the lowe string function to the message, we will allow variations in lowe characters and upper characters and see if the model will underperform or overperform "
   ]
  },
  {
   "cell_type": "code",
   "execution_count": 42,
   "metadata": {
    "collapsed": true
   },
   "outputs": [],
   "source": [
    "def classify_complex(message):\n",
    "    messsage = re.sub('\\W',' ',message)\n",
    "    message = message.split()\n",
    "    p_spam_given_new_message = p_spam\n",
    "    p_ham_given_new_message = p_ham\n",
    "    for word in message:\n",
    "        if word in parameters_spam:\n",
    "            p_spam_given_new_message *= parameters_spam[word]\n",
    "        if word in parameters_ham:\n",
    "            p_ham_given_new_message *= parameters_ham[word]\n",
    "    if p_spam_given_new_message > p_ham_given_new_message:\n",
    "        return 'spam '\n",
    "    elif p_ham_given_new_message > p_spam_given_new_message:\n",
    "        return 'ham'\n",
    "    else:\n",
    "        return 'needs human classification'"
   ]
  },
  {
   "cell_type": "code",
   "execution_count": 43,
   "metadata": {
    "collapsed": false
   },
   "outputs": [],
   "source": [
    "test_set['complex_predictions'] = test_set['SMS'].apply(classify_complex)"
   ]
  },
  {
   "cell_type": "code",
   "execution_count": 44,
   "metadata": {
    "collapsed": false
   },
   "outputs": [
    {
     "name": "stdout",
     "output_type": "stream",
     "text": [
      "Complex Correct: 960\n",
      "Incorrect: 154\n",
      "Accuracy: 0.8617594254937163\n"
     ]
    }
   ],
   "source": [
    "complex_correct = 0\n",
    "total_complex = len(test_set)\n",
    "for index,rows in test_set.iterrows():\n",
    "    if rows['Label'] == rows['complex_predictions']:\n",
    "        complex_correct += 1\n",
    "\n",
    "print('Complex Correct:',complex_correct)\n",
    "print('Incorrect:',total_complex-complex_correct)\n",
    "print('Accuracy:',complex_correct/total_complex)"
   ]
  },
  {
   "cell_type": "markdown",
   "metadata": {},
   "source": [
    "# Conclusion "
   ]
  },
  {
   "cell_type": "markdown",
   "metadata": {
    "collapsed": false
   },
   "source": [
    "The accuracy is close to 86%, which is really good. Our benchmark for accuracy is 80% which the algorithm surpassed, this hows that the model is good enough to be used. The complex filter looked at 1,114 messages that it has not seen before and classified 960 correctly despite the fact that there were variations in capitalization of words"
   ]
  }
 ],
 "metadata": {
  "kernelspec": {
   "display_name": "Python 3",
   "language": "python",
   "name": "python3"
  },
  "language_info": {
   "codemirror_mode": {
    "name": "ipython",
    "version": 3
   },
   "file_extension": ".py",
   "mimetype": "text/x-python",
   "name": "python",
   "nbconvert_exporter": "python",
   "pygments_lexer": "ipython3",
   "version": "3.4.3"
  }
 },
 "nbformat": 4,
 "nbformat_minor": 4
}
